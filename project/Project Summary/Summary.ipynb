{
 "cells": [
  {
   "cell_type": "markdown",
   "metadata": {},
   "source": [
    "Problem Statement: \n",
    "Analyses the current employee data and find the core underlying causes of this performance issues"
   ]
  },
  {
   "cell_type": "markdown",
   "metadata": {},
   "source": [
    "Result:\n",
    "1. Top 3 causes for performance are OverTime, EmpEducationLevel, ExperienceYearsInCurrentRole\n",
    "2. To improve the performance the work load should be in a balance and the no of overtime job should be decreased.\n",
    "3. For selecting new employees Experiencein current role , work life balance, recent promotions are effecting the performance rating.\n",
    "4. Gradient Boosting algorithm has acheived high accuracy compared to other ML Models with 89% accuracy\n",
    "\n"
   ]
  }
 ],
 "metadata": {
  "kernelspec": {
   "display_name": "Python 3",
   "language": "python",
   "name": "python3"
  },
  "language_info": {
   "codemirror_mode": {
    "name": "ipython",
    "version": 3
   },
   "file_extension": ".py",
   "mimetype": "text/x-python",
   "name": "python",
   "nbconvert_exporter": "python",
   "pygments_lexer": "ipython3",
   "version": "3.7.3"
  }
 },
 "nbformat": 4,
 "nbformat_minor": 2
}
